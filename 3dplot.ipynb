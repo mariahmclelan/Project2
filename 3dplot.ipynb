{
 "cells": [
  {
   "cell_type": "code",
   "execution_count": 1,
   "metadata": {},
   "outputs": [
    {
     "ename": "ModuleNotFoundError",
     "evalue": "No module named 'pymongo'",
     "output_type": "error",
     "traceback": [
      "\u001b[1;31m---------------------------------------------------------------------------\u001b[0m",
      "\u001b[1;31mModuleNotFoundError\u001b[0m                       Traceback (most recent call last)",
      "Cell \u001b[1;32mIn[1], line 1\u001b[0m\n\u001b[1;32m----> 1\u001b[0m \u001b[38;5;28;01mfrom\u001b[39;00m \u001b[38;5;21;01mpymongo\u001b[39;00m \u001b[38;5;28;01mimport\u001b[39;00m MongoClient\n\u001b[0;32m      2\u001b[0m \u001b[38;5;28;01mimport\u001b[39;00m \u001b[38;5;21;01mjson\u001b[39;00m\n\u001b[0;32m      3\u001b[0m \u001b[38;5;28;01mimport\u001b[39;00m \u001b[38;5;21;01mfolium\u001b[39;00m\n",
      "\u001b[1;31mModuleNotFoundError\u001b[0m: No module named 'pymongo'"
     ]
    }
   ],
   "source": [
    "from pymongo import MongoClient\n",
    "import json\n",
    "import folium\n",
    "import pandas as pd\n",
    "import matplotlib.pyplot as plt\n",
    "import numpy as np"
   ]
  },
  {
   "cell_type": "code",
   "execution_count": null,
   "metadata": {},
   "outputs": [],
   "source": [
    "# in terminal\n",
    "'''\n",
    "mongoimport --type json -d texasSchoolsDB -c scores_finances --drop --jsonArray scores_finances.json\n",
    "mongoimport --type json -d texasSchoolsDB -c school_info --drop --jsonArray texas-school.json\n",
    "mongoimport --type json -d texasSchoolsDB -c coordinates --drop --jsonArray finance_coordinates.json\n",
    "mongoimport --type json -d texasSchoolsDB -c scores_coordinates --drop --jsonArray finance_scores_coordinates.json\n",
    "mongoimport --type json -d texasSchoolsDB -c schools --drop --jsonArray Schools_2022_to_2023.json\n",
    "\n",
    "'''"
   ]
  },
  {
   "cell_type": "code",
   "execution_count": null,
   "metadata": {},
   "outputs": [],
   "source": [
    "mongo = MongoClient(port=27017)"
   ]
  },
  {
   "cell_type": "code",
   "execution_count": null,
   "metadata": {},
   "outputs": [],
   "source": [
    "db = mongo[\"texasSchoolsDB\"]"
   ]
  },
  {
   "cell_type": "code",
   "execution_count": null,
   "metadata": {},
   "outputs": [],
   "source": [
    "from dash import Dash, dcc, html, Input, Output\n",
    "import plotly.express as px"
   ]
  },
  {
   "cell_type": "code",
   "execution_count": null,
   "metadata": {},
   "outputs": [],
   "source": [
    "# Retrieve data from MongoDB\n",
    "sat_scores = []\n",
    "for document in scores.find({}, {\"SAT_Total\": 1}):  # Only retrieve SAT scores\n",
    "    score = float(document.get('SAT_Total'))  # Convert to float\n",
    "    sat_scores.append(score)\n",
    "    \n",
    "act_scores = []\n",
    "for document in scores.find({}, {\"ACT_Total\": 1}):\n",
    "    score = float(document.get('ACT_Total'))\n",
    "    act_scores.append(score)\n",
    "\n",
    "school_budget = []\n",
    "for document in scores.find({}, {\"Total_Operating_Revenue\"})\n",
    "    score = float(document.get('Total_Operating_Revenue'))  # Convert to float\n",
    "    school_budget.append(score)"
   ]
  },
  {
   "cell_type": "code",
   "execution_count": null,
   "metadata": {},
   "outputs": [],
   "source": [
    "fig = plt.figure(figsize=(12, 12))\n",
    "ax = fig.add_subplot(projection='3d')\n",
    "\n",
    "x_vals = sat_scores\n",
    "y_vals = act_scores\n",
    "z_vals = school_budget\n",
    "\n",
    "ax.scatter(x_vals, y_vals, z_vals)\n",
    "ax.set_xlabel('SAT Score')\n",
    "ax.set_ylabel('ACT Score')\n",
    "ax.set_zlabel('Budget')\n",
    "plt.show()"
   ]
  }
 ],
 "metadata": {
  "kernelspec": {
   "display_name": "Python 3",
   "language": "python",
   "name": "python3"
  },
  "language_info": {
   "codemirror_mode": {
    "name": "ipython",
    "version": 3
   },
   "file_extension": ".py",
   "mimetype": "text/x-python",
   "name": "python",
   "nbconvert_exporter": "python",
   "pygments_lexer": "ipython3",
   "version": "3.12.0"
  }
 },
 "nbformat": 4,
 "nbformat_minor": 2
}
