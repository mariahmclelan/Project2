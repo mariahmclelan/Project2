{
 "cells": [
  {
   "cell_type": "code",
   "execution_count": 2,
   "metadata": {},
   "outputs": [
    {
     "data": {
      "text/plain": [
       "'\\nmongoimport --type json -d texasSchoolsDB -c scores_finances --drop --jsonArray scores_finances.json\\nmongoimport --type json -d texasSchoolsDB -c school_info --drop --jsonArray texas-school.json\\nmongoimport --type json -d texasSchoolsDB -c coordinates --drop --jsonArray finance_coordinates.json\\n\\n'"
      ]
     },
     "execution_count": 2,
     "metadata": {},
     "output_type": "execute_result"
    }
   ],
   "source": [
    "# in terminal\n",
    "'''\n",
    "mongoimport --type json -d texasSchoolsDB -c scores_finances --drop --jsonArray scores_finances.json\n",
    "mongoimport --type json -d texasSchoolsDB -c school_info --drop --jsonArray texas-school.json\n",
    "mongoimport --type json -d texasSchoolsDB -c coordinates --drop --jsonArray finance_coordinates.json\n",
    "\n",
    "'''"
   ]
  },
  {
   "cell_type": "code",
   "execution_count": 3,
   "metadata": {},
   "outputs": [],
   "source": [
    "from pymongo import MongoClient\n",
    "import json\n",
    "import folium\n",
    "from folium.plugins import MarkerCluster\n",
    "import pandas as pd"
   ]
  },
  {
   "cell_type": "code",
   "execution_count": 4,
   "metadata": {},
   "outputs": [],
   "source": [
    "mongo = MongoClient(port=27017)"
   ]
  },
  {
   "cell_type": "code",
   "execution_count": 5,
   "metadata": {},
   "outputs": [
    {
     "name": "stdout",
     "output_type": "stream",
     "text": [
      "admin\n",
      "autosaurus\n",
      "classDB\n",
      "config\n",
      "epa\n",
      "fruits_db\n",
      "garden_db\n",
      "local\n",
      "met\n",
      "petsitly_marketing\n",
      "test\n",
      "texasSchoolsDB <----------\n",
      "travel_db\n",
      "uk_food\n"
     ]
    }
   ],
   "source": [
    "for dbname in mongo.list_database_names():\n",
    "    if dbname == \"texasSchoolsDB\":\n",
    "        print(f'{dbname} <----------')\n",
    "    else:\n",
    "        print(dbname)"
   ]
  },
  {
   "cell_type": "code",
   "execution_count": 6,
   "metadata": {},
   "outputs": [],
   "source": [
    "db = mongo[\"texasSchoolsDB\"]"
   ]
  },
  {
   "cell_type": "code",
   "execution_count": 7,
   "metadata": {},
   "outputs": [
    {
     "data": {
      "text/plain": [
       "['coordinates', 'scores_finances', 'school_info']"
      ]
     },
     "execution_count": 7,
     "metadata": {},
     "output_type": "execute_result"
    }
   ],
   "source": [
    "db.list_collection_names()"
   ]
  },
  {
   "cell_type": "code",
   "execution_count": 8,
   "metadata": {},
   "outputs": [],
   "source": [
    "coordinates = db.coordinates"
   ]
  },
  {
   "cell_type": "code",
   "execution_count": 10,
   "metadata": {},
   "outputs": [],
   "source": [
    "# Create a Folium map\n",
    "map = folium.Map(location=[29.7604, -95.3698], zoom_start=6)\n",
    "\n",
    "# Create a feature group for the markers\n",
    "marker_group = folium.FeatureGroup(name='Markers')\n",
    "\n",
    "# Fetch data from MongoDB and create markers\n",
    "for document in coordinates.find({}):\n",
    "    latitude = float(document.get('Latitude'))  # Convert to float\n",
    "    longitude = float(document.get('Longitude'))  # Convert to float\n",
    "    revenue = float(document.get('Total_Operating_Revenue'))  # Convert to int\n",
    "    student_count = float(document.get('Student_Count'))  # Convert to int\n",
    "    district_name = document.get('District_Name')\n",
    "\n",
    "    # Define marker size based on revenue\n",
    "    def get_marker_size(revenue):\n",
    "        if revenue < 5000000:\n",
    "            return 4\n",
    "        elif 5000000 <= revenue < 10000000:\n",
    "            return 8\n",
    "        elif 10000000 <= revenue < 50000000:\n",
    "            return 12\n",
    "        elif 50000000 <= revenue < 100000000:\n",
    "            return 16\n",
    "        elif 100000000 <= revenue < 500000000:\n",
    "            return 20\n",
    "        else:\n",
    "            return 24\n",
    "\n",
    "    # Define marker color based on student count\n",
    "    def get_marker_color(student_count):\n",
    "        if student_count >= 2275:\n",
    "            return 'red'\n",
    "        elif 1315 <= student_count <= 2274:\n",
    "            return 'purple'\n",
    "        elif 545 <= student_count <= 1314:\n",
    "            return 'blue'\n",
    "        elif 254 <= student_count <= 544:\n",
    "            return 'yellow'\n",
    "        elif 105 <= student_count <= 253:\n",
    "            return 'orange'\n",
    "        else:\n",
    "            return 'green'\n",
    "\n",
    "    # Create popup text\n",
    "    popup_text = f\"ISD Name: {district_name} <br>Revenue: ${revenue:,}<br>Student Count: {student_count:,}\"\n",
    "    size = get_marker_size(revenue)\n",
    "    color = get_marker_color(student_count)\n",
    "    marker = folium.CircleMarker(location=[latitude, longitude],\n",
    "                                      radius=size,\n",
    "                                      color=color,\n",
    "                                      fill=True,\n",
    "                                      fill_color=color,\n",
    "                                      fill_opacity=0.5,\n",
    "                                      popup=popup_text,\n",
    "                                      clickable=True)\n",
    "\n",
    "    # Add marker to feature group\n",
    "    marker.add_to(marker_group)\n",
    "\n",
    "# Add feature group to the map\n",
    "marker_group.add_to(map)\n",
    "\n",
    "# Add layer control to the map\n",
    "folium.LayerControl().add_to(map)\n",
    "\n",
    "# Save the map as an HTML file\n",
    "map.save('map_with_markers_from_mongodb.html')"
   ]
  }
 ],
 "metadata": {
  "kernelspec": {
   "display_name": "dev",
   "language": "python",
   "name": "python3"
  },
  "language_info": {
   "codemirror_mode": {
    "name": "ipython",
    "version": 3
   },
   "file_extension": ".py",
   "mimetype": "text/x-python",
   "name": "python",
   "nbconvert_exporter": "python",
   "pygments_lexer": "ipython3",
   "version": "3.12.2"
  }
 },
 "nbformat": 4,
 "nbformat_minor": 2
}
