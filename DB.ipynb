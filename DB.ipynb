{
 "cells": [
  {
   "cell_type": "code",
   "execution_count": 1,
   "metadata": {},
   "outputs": [
    {
     "data": {
      "text/plain": [
       "'\\nmongoimport --type json -d texasSchoolsDB -c scores_finances --drop --jsonArray scores_finances.json\\nmongoimport --type json -d texasSchoolsDB -c school-info --drop --jsonArray texas-school.json\\n'"
      ]
     },
     "execution_count": 1,
     "metadata": {},
     "output_type": "execute_result"
    }
   ],
   "source": [
    "# in terminal\n",
    "'''\n",
    "mongoimport --type json -d texasSchoolsDB -c scores_finances --drop --jsonArray scores_finances.json\n",
    "mongoimport --type json -d texasSchoolsDB -c school_info --drop --jsonArray texas-school.json\n",
    "mongoimport --type json -d texasSchoolsDB -c coordinates --drop --jsonArray scores_finances.json\n",
    "\n",
    "'''"
   ]
  },
  {
   "cell_type": "code",
   "execution_count": 2,
   "metadata": {},
   "outputs": [],
   "source": [
    "from pymongo import MongoClient\n",
    "import json"
   ]
  },
  {
   "cell_type": "code",
   "execution_count": 3,
   "metadata": {},
   "outputs": [],
   "source": [
    "mongo = MongoClient(port=27017)"
   ]
  },
  {
   "cell_type": "code",
   "execution_count": 4,
   "metadata": {},
   "outputs": [
    {
     "name": "stdout",
     "output_type": "stream",
     "text": [
      "admin\n",
      "autosaurus\n",
      "classDB\n",
      "config\n",
      "epa\n",
      "fruits_db\n",
      "gardenDB\n",
      "local\n",
      "met\n",
      "petsitly_marketing\n",
      "texasSchoolsDB <----------\n",
      "travel_db\n",
      "uk_food\n"
     ]
    }
   ],
   "source": [
    "for dbname in mongo.list_database_names():\n",
    "    if dbname == \"texasSchoolsDB\":\n",
    "        print(f'{dbname} <----------')\n",
    "    else:\n",
    "        print(dbname)"
   ]
  },
  {
   "cell_type": "code",
   "execution_count": 5,
   "metadata": {},
   "outputs": [],
   "source": [
    "db = mongo[\"texasSchoolsDB\"]"
   ]
  },
  {
   "cell_type": "code",
   "execution_count": 12,
   "metadata": {},
   "outputs": [
    {
     "data": {
      "text/plain": [
       "['scores_finances', 'school_info']"
      ]
     },
     "execution_count": 12,
     "metadata": {},
     "output_type": "execute_result"
    }
   ],
   "source": [
    "db.list_collection_names()"
   ]
  },
  {
   "cell_type": "code",
   "execution_count": 7,
   "metadata": {},
   "outputs": [
    {
     "data": {
      "text/plain": [
       "{'_id': ObjectId('65d8020fa6b25e1e60be7237'),\n",
       " 'District Name': 'houston isd',\n",
       " 'Year': '2022',\n",
       " 'Total Operating Revenue': 2535319349.0,\n",
       " 'Student Count': 193727.0,\n",
       " 'Campus Name': 'Lamar HS',\n",
       " 'County Name': 'Harris County',\n",
       " 'Region': '4.0',\n",
       " 'Region Name': 'Houston',\n",
       " 'ERW': 525.0,\n",
       " 'SAT Math': 504.0,\n",
       " 'SAT Total': 1029.0,\n",
       " 'ACT English': 24.1,\n",
       " 'ACT Math': 23.0,\n",
       " 'ACT Reading': 26.0,\n",
       " 'ACT Science': 23.9,\n",
       " 'ACT Compos': 24.4,\n",
       " 'per student budget': 13087.0}"
      ]
     },
     "execution_count": 7,
     "metadata": {},
     "output_type": "execute_result"
    }
   ],
   "source": [
    "db.scores_finances.find_one()"
   ]
  },
  {
   "cell_type": "code",
   "execution_count": 14,
   "metadata": {},
   "outputs": [
    {
     "data": {
      "text/plain": [
       "{'_id': ObjectId('65dd33e4f86f6bc84f06d3f4'),\n",
       " 'CountyNumber': \"'001\",\n",
       " 'CountyName': 'ANDERSON COUNTY',\n",
       " 'RegionNumber': \"'07\",\n",
       " 'DistrictNumber': \"'001902\",\n",
       " 'DistrictName': 'CAYUGA ISD',\n",
       " 'DistrictType': 'INDEPENDENT',\n",
       " 'DistrictStreetAddress': 'P O BOX 427',\n",
       " 'DistrictCity': 'CAYUGA',\n",
       " 'DistrictState': 'TX',\n",
       " 'DistrictZip': '75832-0427',\n",
       " 'DistrictSiteStreetAddress': '17750 N US HWY 287',\n",
       " 'DistrictSiteCity': 'TENNESSEE COLONY',\n",
       " 'DistrictSiteState': 'TX',\n",
       " 'DistrictSiteZip': '75861',\n",
       " 'DistrictPhone': '(903) 928-2102',\n",
       " 'DistrictFax': '(903) 928-2646',\n",
       " 'DistrictEmailAddress': 'admin@cayuga.esc7.net',\n",
       " 'DistrictWebPageAddress': 'www.cayuga.esc7.net',\n",
       " 'DistrictSuperintendent': 'DR RICK WEBB   ',\n",
       " 'DistrictEnrollmentasofOct2014': '577',\n",
       " 'SchoolNumber': \"'001902041\",\n",
       " 'SchoolName': 'CAYUGA MIDDLE',\n",
       " 'InstructionType': 'REGULAR INSTRUCTIONAL',\n",
       " 'CharterType': '',\n",
       " 'SchoolStreetAddress': 'P O BOX 427',\n",
       " 'SchoolCity': 'CAYUGA',\n",
       " 'SchoolState': 'TX',\n",
       " 'SchoolZip': '75832-0427',\n",
       " 'SchoolSiteStreetAddress': '17750 N US HWY 287',\n",
       " 'SchoolSiteCity': 'TENNESSEE COLONY',\n",
       " 'SchoolSiteState': 'TX',\n",
       " 'SchoolSiteZip': '75861',\n",
       " 'SchoolPhone': '(903) 928-2699 ext:4001',\n",
       " 'SchoolFax': '(903) 928-2646',\n",
       " 'SchoolEmailAddress': 'admin@cayuga.esc7.net',\n",
       " 'SchoolWebPageAddress': 'www.cayuga.esc7.net',\n",
       " 'SchoolPrincipal': 'MRS SHERRI MCINNIS   ',\n",
       " 'GradeRange': \"'06-08\",\n",
       " 'SchoolEnrollmentasofOct2014': '120',\n",
       " 'SchoolStatus': 'Active',\n",
       " 'SchoolStatusDate': '1996-03-11',\n",
       " 'UpdateDate': '2015-03-14T05:34:57',\n",
       " 'GeocodeQualityType': 'Manual ',\n",
       " 'Latitude': '31.922572',\n",
       " 'Longitude': '-95.973648'}"
      ]
     },
     "execution_count": 14,
     "metadata": {},
     "output_type": "execute_result"
    }
   ],
   "source": [
    "db.school_info.find_one()"
   ]
  },
  {
   "cell_type": "code",
   "execution_count": 15,
   "metadata": {},
   "outputs": [],
   "source": [
    "scores_finances = db.scores_finances"
   ]
  },
  {
   "cell_type": "code",
   "execution_count": 43,
   "metadata": {},
   "outputs": [
    {
     "data": {
      "text/plain": [
       "<pymongo.results.UpdateResult at 0x1df52052440>"
      ]
     },
     "execution_count": 43,
     "metadata": {},
     "output_type": "execute_result"
    }
   ],
   "source": [
    "scores_finances.update_many({}, [ {'$set': {\"SAT Math\": {'$toDouble': \"$SAT Math\"}}} ])\n",
    "scores_finances.update_many({}, [ {'$set': {\"Total Operating Revenue\": {'$toDouble': \"$Total Operating Revenue\"}}} ])\n",
    "scores_finances.update_many({}, [ {'$set': {\"Student Count\": {'$toDouble': \"$Student Count\"}}} ])\n",
    "scores_finances.update_many({}, [ {'$set': {\"ERW\": {'$toDouble': \"$ERW\"}}} ])\n",
    "scores_finances.update_many({}, [ {'$set': {\"SAT Total\": {'$toDouble': \"$SAT Total\"}}} ])\n",
    "scores_finances.update_many({}, [ {'$set': {\"ACT English\": {'$toDouble': \"$ACT English\"}}} ])\n",
    "scores_finances.update_many({}, [ {'$set': {\"ACT Math\": {'$toDouble': \"$ACT Math\"}}} ])\n",
    "scores_finances.update_many({}, [ {'$set': {\"ACT Reading\": {'$toDouble': \"$ACT Reading\"}}} ])\n",
    "scores_finances.update_many({}, [ {'$set': {\"ACT Science\": {'$toDouble': \"$ACT Science\"}}} ])\n",
    "scores_finances.update_many({}, [ {'$set': {\"ACT Compos\": {'$toDouble': \"$ACT Compos\"}}} ])\n",
    "scores_finances.update_many({}, [ {'$set': {\"per student budget\": {'$toDouble': \"$per student budget\"}}} ])"
   ]
  },
  {
   "cell_type": "code",
   "execution_count": 44,
   "metadata": {},
   "outputs": [
    {
     "data": {
      "text/plain": [
       "[{'_id': ObjectId('65d8020fa6b25e1e60be7237'),\n",
       "  'District Name': 'houston isd',\n",
       "  'Year': '2022',\n",
       "  'Total Operating Revenue': 2535319349.0,\n",
       "  'Student Count': 193727.0,\n",
       "  'Campus Name': 'Lamar HS',\n",
       "  'County Name': 'Harris County',\n",
       "  'Region': '4.0',\n",
       "  'Region Name': 'Houston',\n",
       "  'ERW': 525.0,\n",
       "  'SAT Math': 504.0,\n",
       "  'SAT Total': 1029.0,\n",
       "  'ACT English': 24.1,\n",
       "  'ACT Math': 23.0,\n",
       "  'ACT Reading': 26.0,\n",
       "  'ACT Science': 23.9,\n",
       "  'ACT Compos': 24.4,\n",
       "  'per student budget': 13087.0},\n",
       " {'_id': ObjectId('65d8020fa6b25e1e60be72fc'),\n",
       "  'District Name': 'garland isd',\n",
       "  'Year': '2022',\n",
       "  'Total Operating Revenue': 619901249.0,\n",
       "  'Student Count': 52960.0,\n",
       "  'Campus Name': 'N Garland HS',\n",
       "  'County Name': 'Dallas County',\n",
       "  'Region': '10.0',\n",
       "  'Region Name': 'Richardson',\n",
       "  'ERW': 498.0,\n",
       "  'SAT Math': 504.0,\n",
       "  'SAT Total': 1002.0,\n",
       "  'ACT English': 20.1,\n",
       "  'ACT Math': 20.4,\n",
       "  'ACT Reading': 21.8,\n",
       "  'ACT Science': 20.5,\n",
       "  'ACT Compos': 20.8,\n",
       "  'per student budget': 11705.0},\n",
       " {'_id': ObjectId('65d8020fa6b25e1e60be740b'),\n",
       "  'District Name': 'bryan isd',\n",
       "  'Year': '2022',\n",
       "  'Total Operating Revenue': 195788852.0,\n",
       "  'Student Count': 16005.0,\n",
       "  'Campus Name': 'Bryan Collegiate HS',\n",
       "  'County Name': 'Brazos County',\n",
       "  'Region': '6.0',\n",
       "  'Region Name': 'Huntsville',\n",
       "  'ERW': 525.0,\n",
       "  'SAT Math': 504.0,\n",
       "  'SAT Total': 1029.0,\n",
       "  'ACT English': 17.3,\n",
       "  'ACT Math': 17.9,\n",
       "  'ACT Reading': 19.7,\n",
       "  'ACT Science': 19.4,\n",
       "  'ACT Compos': 18.7,\n",
       "  'per student budget': 12232.0},\n",
       " {'_id': ObjectId('65d8020fa6b25e1e60be750b'),\n",
       "  'District Name': 'kennedale isd',\n",
       "  'Year': '2022',\n",
       "  'Total Operating Revenue': 33734663.0,\n",
       "  'Student Count': 2836.0,\n",
       "  'Campus Name': 'Kennedale HS',\n",
       "  'County Name': 'Tarrant County',\n",
       "  'Region': '11.0',\n",
       "  'Region Name': 'Fort Worth',\n",
       "  'ERW': 526.0,\n",
       "  'SAT Math': 504.0,\n",
       "  'SAT Total': 1030.0,\n",
       "  'ACT English': 19.8,\n",
       "  'ACT Math': 19.9,\n",
       "  'ACT Reading': 21.5,\n",
       "  'ACT Science': 21.9,\n",
       "  'ACT Compos': 20.9,\n",
       "  'per student budget': 11895.0},\n",
       " {'_id': ObjectId('65d8020fa6b25e1e60be7586'),\n",
       "  'District Name': 'whitney isd',\n",
       "  'Year': '2022',\n",
       "  'Total Operating Revenue': 19817508.0,\n",
       "  'Student Count': 1474.0,\n",
       "  'Campus Name': 'Whitney HS',\n",
       "  'County Name': 'Hill County',\n",
       "  'Region': '12.0',\n",
       "  'Region Name': 'Waco',\n",
       "  'ERW': 501.0,\n",
       "  'SAT Math': 504.0,\n",
       "  'SAT Total': 1006.0,\n",
       "  'ACT English': 19.0,\n",
       "  'ACT Math': 19.6,\n",
       "  'ACT Reading': 19.2,\n",
       "  'ACT Science': 20.7,\n",
       "  'ACT Compos': 19.7,\n",
       "  'per student budget': 13444.0},\n",
       " {'_id': ObjectId('65d8020fa6b25e1e60be75f4'),\n",
       "  'District Name': 'new waverly isd',\n",
       "  'Year': '2022',\n",
       "  'Total Operating Revenue': 14468899.0,\n",
       "  'Student Count': 994.0,\n",
       "  'Campus Name': 'New Waverly HS',\n",
       "  'County Name': 'Walker County',\n",
       "  'Region': '6.0',\n",
       "  'Region Name': 'Huntsville',\n",
       "  'ERW': 507.0,\n",
       "  'SAT Math': 504.0,\n",
       "  'SAT Total': 1010.0,\n",
       "  'ACT English': 22.0,\n",
       "  'ACT Math': 21.6,\n",
       "  'ACT Reading': 25.1,\n",
       "  'ACT Science': 21.9,\n",
       "  'ACT Compos': 22.9,\n",
       "  'per student budget': 14556.0},\n",
       " {'_id': ObjectId('65d80210a6b25e1e60be7638'),\n",
       "  'District Name': 'garrison isd',\n",
       "  'Year': '2022',\n",
       "  'Total Operating Revenue': 10564419.0,\n",
       "  'Student Count': 748.0,\n",
       "  'Campus Name': 'Garrison HS',\n",
       "  'County Name': 'Nacogdoches County',\n",
       "  'Region': '7.0',\n",
       "  'Region Name': 'Kilgore',\n",
       "  'ERW': 511.0,\n",
       "  'SAT Math': 504.0,\n",
       "  'SAT Total': 1016.0,\n",
       "  'ACT English': 17.1,\n",
       "  'ACT Math': 18.1,\n",
       "  'ACT Reading': 19.1,\n",
       "  'ACT Science': 19.1,\n",
       "  'ACT Compos': 18.5,\n",
       "  'per student budget': 14123.0},\n",
       " {'_id': ObjectId('65d80210a6b25e1e60be7683'),\n",
       "  'District Name': 'ropes isd',\n",
       "  'Year': '2022',\n",
       "  'Total Operating Revenue': 7526657.0,\n",
       "  'Student Count': 514.0,\n",
       "  'Campus Name': 'Ropes School',\n",
       "  'County Name': 'Hockley County',\n",
       "  'Region': '17.0',\n",
       "  'Region Name': 'Lubbock',\n",
       "  'ERW': 512.0,\n",
       "  'SAT Math': 504.0,\n",
       "  'SAT Total': 1016.0,\n",
       "  'ACT English': 18.7,\n",
       "  'ACT Math': 18.9,\n",
       "  'ACT Reading': 20.5,\n",
       "  'ACT Science': 20.2,\n",
       "  'ACT Compos': 19.7,\n",
       "  'per student budget': 14643.0}]"
      ]
     },
     "execution_count": 44,
     "metadata": {},
     "output_type": "execute_result"
    }
   ],
   "source": [
    "query = {'SAT Math': 504.0}\n",
    "\n",
    "results = scores_finances.find(query)\n",
    "\n",
    "[result for result in results]"
   ]
  },
  {
   "cell_type": "code",
   "execution_count": 16,
   "metadata": {},
   "outputs": [],
   "source": [
    "school_info = db.school_info"
   ]
  },
  {
   "cell_type": "code",
   "execution_count": 34,
   "metadata": {},
   "outputs": [
    {
     "data": {
      "text/plain": [
       "<pymongo.results.UpdateResult at 0x295e5d48c00>"
      ]
     },
     "execution_count": 34,
     "metadata": {},
     "output_type": "execute_result"
    }
   ],
   "source": [
    "school_info.update_many({\"GeocodeQualityType\": \"Manual\"}, [ {'$set': {\"Latitude\": {'$toDouble': \"$Latitude\"}}} ])\n",
    "school_info.update_many({\"GeocodeQualityType\": \"Manual\"}, [ {'$set': {\"Longitude\": {'$toDouble': \"$Longitude\"}}} ])\n",
    "school_info.update_many({\"GeocodeQualityType\": \"AddressRangeInterpolation\"}, [ {'$set': {\"Longitude\": {'$toDouble': \"$Longitude\"}}} ])\n",
    "school_info.update_many({\"GeocodeQualityType\": \"AddressRangeInterpolation\"}, [ {'$set': {\"Latitude\": {'$toDouble': \"$Latitude\"}}} ])"
   ]
  },
  {
   "cell_type": "code",
   "execution_count": 35,
   "metadata": {},
   "outputs": [
    {
     "data": {
      "text/plain": [
       "[{'_id': ObjectId('65dd33e4f86f6bc84f06d3f4'),\n",
       "  'CountyNumber': \"'001\",\n",
       "  'CountyName': 'ANDERSON COUNTY',\n",
       "  'RegionNumber': \"'07\",\n",
       "  'DistrictNumber': \"'001902\",\n",
       "  'DistrictName': 'CAYUGA ISD',\n",
       "  'DistrictType': 'INDEPENDENT',\n",
       "  'DistrictStreetAddress': 'P O BOX 427',\n",
       "  'DistrictCity': 'CAYUGA',\n",
       "  'DistrictState': 'TX',\n",
       "  'DistrictZip': '75832-0427',\n",
       "  'DistrictSiteStreetAddress': '17750 N US HWY 287',\n",
       "  'DistrictSiteCity': 'TENNESSEE COLONY',\n",
       "  'DistrictSiteState': 'TX',\n",
       "  'DistrictSiteZip': '75861',\n",
       "  'DistrictPhone': '(903) 928-2102',\n",
       "  'DistrictFax': '(903) 928-2646',\n",
       "  'DistrictEmailAddress': 'admin@cayuga.esc7.net',\n",
       "  'DistrictWebPageAddress': 'www.cayuga.esc7.net',\n",
       "  'DistrictSuperintendent': 'DR RICK WEBB   ',\n",
       "  'DistrictEnrollmentasofOct2014': '577',\n",
       "  'SchoolNumber': \"'001902041\",\n",
       "  'SchoolName': 'CAYUGA MIDDLE',\n",
       "  'InstructionType': 'REGULAR INSTRUCTIONAL',\n",
       "  'CharterType': '',\n",
       "  'SchoolStreetAddress': 'P O BOX 427',\n",
       "  'SchoolCity': 'CAYUGA',\n",
       "  'SchoolState': 'TX',\n",
       "  'SchoolZip': '75832-0427',\n",
       "  'SchoolSiteStreetAddress': '17750 N US HWY 287',\n",
       "  'SchoolSiteCity': 'TENNESSEE COLONY',\n",
       "  'SchoolSiteState': 'TX',\n",
       "  'SchoolSiteZip': '75861',\n",
       "  'SchoolPhone': '(903) 928-2699 ext:4001',\n",
       "  'SchoolFax': '(903) 928-2646',\n",
       "  'SchoolEmailAddress': 'admin@cayuga.esc7.net',\n",
       "  'SchoolWebPageAddress': 'www.cayuga.esc7.net',\n",
       "  'SchoolPrincipal': 'MRS SHERRI MCINNIS   ',\n",
       "  'GradeRange': \"'06-08\",\n",
       "  'SchoolEnrollmentasofOct2014': '120',\n",
       "  'SchoolStatus': 'Active',\n",
       "  'SchoolStatusDate': '1996-03-11',\n",
       "  'UpdateDate': '2015-03-14T05:34:57',\n",
       "  'GeocodeQualityType': 'Manual ',\n",
       "  'Latitude': 31.922572,\n",
       "  'Longitude': '-95.973648'},\n",
       " {'_id': ObjectId('65dd33e4f86f6bc84f06d3f5'),\n",
       "  'CountyNumber': \"'001\",\n",
       "  'CountyName': 'ANDERSON COUNTY',\n",
       "  'RegionNumber': \"'07\",\n",
       "  'DistrictNumber': \"'001902\",\n",
       "  'DistrictName': 'CAYUGA ISD',\n",
       "  'DistrictType': 'INDEPENDENT',\n",
       "  'DistrictStreetAddress': 'P O BOX 427',\n",
       "  'DistrictCity': 'CAYUGA',\n",
       "  'DistrictState': 'TX',\n",
       "  'DistrictZip': '75832-0427',\n",
       "  'DistrictSiteStreetAddress': '17750 N US HWY 287',\n",
       "  'DistrictSiteCity': 'TENNESSEE COLONY',\n",
       "  'DistrictSiteState': 'TX',\n",
       "  'DistrictSiteZip': '75861',\n",
       "  'DistrictPhone': '(903) 928-2102',\n",
       "  'DistrictFax': '(903) 928-2646',\n",
       "  'DistrictEmailAddress': 'admin@cayuga.esc7.net',\n",
       "  'DistrictWebPageAddress': 'www.cayuga.esc7.net',\n",
       "  'DistrictSuperintendent': 'DR RICK WEBB   ',\n",
       "  'DistrictEnrollmentasofOct2014': '577',\n",
       "  'SchoolNumber': \"'001902001\",\n",
       "  'SchoolName': 'CAYUGA H S',\n",
       "  'InstructionType': 'REGULAR INSTRUCTIONAL',\n",
       "  'CharterType': '',\n",
       "  'SchoolStreetAddress': 'P O BOX 427',\n",
       "  'SchoolCity': 'CAYUGA',\n",
       "  'SchoolState': 'TX',\n",
       "  'SchoolZip': '75832-0427',\n",
       "  'SchoolSiteStreetAddress': '17750 N US HWY 287',\n",
       "  'SchoolSiteCity': 'TENNESSEE COLONY',\n",
       "  'SchoolSiteState': 'TX',\n",
       "  'SchoolSiteZip': '75861',\n",
       "  'SchoolPhone': '(903) 928-2294 ext:012 ',\n",
       "  'SchoolFax': '(903) 928-2239',\n",
       "  'SchoolEmailAddress': 'admin@cayuga.esc7.net',\n",
       "  'SchoolWebPageAddress': 'www.cayuga.esc7.net',\n",
       "  'SchoolPrincipal': 'MR RUSSELL HOLDEN   ',\n",
       "  'GradeRange': \"'09-12\",\n",
       "  'SchoolEnrollmentasofOct2014': '206',\n",
       "  'SchoolStatus': 'Active',\n",
       "  'SchoolStatusDate': ' ',\n",
       "  'UpdateDate': '2015-03-14T05:34:57',\n",
       "  'GeocodeQualityType': 'Manual ',\n",
       "  'Latitude': 31.922572,\n",
       "  'Longitude': '-95.973648'},\n",
       " {'_id': ObjectId('65dd33e4f86f6bc84f06d3f7'),\n",
       "  'CountyNumber': \"'001\",\n",
       "  'CountyName': 'ANDERSON COUNTY',\n",
       "  'RegionNumber': \"'07\",\n",
       "  'DistrictNumber': \"'001902\",\n",
       "  'DistrictName': 'CAYUGA ISD',\n",
       "  'DistrictType': 'INDEPENDENT',\n",
       "  'DistrictStreetAddress': 'P O BOX 427',\n",
       "  'DistrictCity': 'CAYUGA',\n",
       "  'DistrictState': 'TX',\n",
       "  'DistrictZip': '75832-0427',\n",
       "  'DistrictSiteStreetAddress': '17750 N US HWY 287',\n",
       "  'DistrictSiteCity': 'TENNESSEE COLONY',\n",
       "  'DistrictSiteState': 'TX',\n",
       "  'DistrictSiteZip': '75861',\n",
       "  'DistrictPhone': '(903) 928-2102',\n",
       "  'DistrictFax': '(903) 928-2646',\n",
       "  'DistrictEmailAddress': 'admin@cayuga.esc7.net',\n",
       "  'DistrictWebPageAddress': 'www.cayuga.esc7.net',\n",
       "  'DistrictSuperintendent': 'DR RICK WEBB   ',\n",
       "  'DistrictEnrollmentasofOct2014': '577',\n",
       "  'SchoolNumber': \"'001902103\",\n",
       "  'SchoolName': 'CAYUGA EL',\n",
       "  'InstructionType': 'REGULAR INSTRUCTIONAL',\n",
       "  'CharterType': '',\n",
       "  'SchoolStreetAddress': 'P O BOX 427',\n",
       "  'SchoolCity': 'CAYUGA',\n",
       "  'SchoolState': 'TX',\n",
       "  'SchoolZip': '75832-0427',\n",
       "  'SchoolSiteStreetAddress': '17750 N US HWY 287',\n",
       "  'SchoolSiteCity': 'TENNESSEE COLONY',\n",
       "  'SchoolSiteState': 'TX',\n",
       "  'SchoolSiteZip': '75861',\n",
       "  'SchoolPhone': '(903) 928-2295',\n",
       "  'SchoolFax': '(903) 928-2387',\n",
       "  'SchoolEmailAddress': 'admin@cayuga.esc7.net',\n",
       "  'SchoolWebPageAddress': 'www.cayuga.esc7.net',\n",
       "  'SchoolPrincipal': 'MRS TRACIE CAMPBELL   ',\n",
       "  'GradeRange': \"'EE-05\",\n",
       "  'SchoolEnrollmentasofOct2014': '251',\n",
       "  'SchoolStatus': 'Active',\n",
       "  'SchoolStatusDate': ' ',\n",
       "  'UpdateDate': '2015-03-14T05:34:57',\n",
       "  'GeocodeQualityType': 'Manual ',\n",
       "  'Latitude': 31.922572,\n",
       "  'Longitude': '-95.973648'}]"
      ]
     },
     "execution_count": 35,
     "metadata": {},
     "output_type": "execute_result"
    }
   ],
   "source": [
    "query = {\"Latitude\": 31.922572}\n",
    "\n",
    "results = school_info.find(query)\n",
    "\n",
    "[result for result in results]"
   ]
  }
 ],
 "metadata": {
  "kernelspec": {
   "display_name": "dev",
   "language": "python",
   "name": "python3"
  },
  "language_info": {
   "codemirror_mode": {
    "name": "ipython",
    "version": 3
   },
   "file_extension": ".py",
   "mimetype": "text/x-python",
   "name": "python",
   "nbconvert_exporter": "python",
   "pygments_lexer": "ipython3",
   "version": "3.12.2"
  }
 },
 "nbformat": 4,
 "nbformat_minor": 2
}
